{
 "cells": [
  {
   "cell_type": "code",
   "execution_count": 2,
   "metadata": {},
   "outputs": [
    {
     "name": "stdout",
     "output_type": "stream",
     "text": [
      "     Year              Datetime    Stage         Stadium         City  \\\n",
      "0  1930.0  13 Jul 1930 - 15:00   Group 1         Pocitos  Montevideo    \n",
      "1  1930.0  13 Jul 1930 - 15:00   Group 4  Parque Central  Montevideo    \n",
      "2  1930.0  14 Jul 1930 - 12:45   Group 2  Parque Central  Montevideo    \n",
      "3  1930.0  14 Jul 1930 - 14:50   Group 3         Pocitos  Montevideo    \n",
      "4  1930.0  15 Jul 1930 - 16:00   Group 1  Parque Central  Montevideo    \n",
      "\n",
      "  Home Team Name  Home Team Goals  Away Team Goals Away Team Name  \\\n",
      "0         France              4.0              1.0         Mexico   \n",
      "1            USA              3.0              0.0        Belgium   \n",
      "2     Yugoslavia              2.0              1.0         Brazil   \n",
      "3        Romania              3.0              1.0           Peru   \n",
      "4      Argentina              1.0              0.0         France   \n",
      "\n",
      "  Win conditions  Attendance  Half-time Home Goals  Half-time Away Goals  \\\n",
      "0                     4444.0                   3.0                   0.0   \n",
      "1                    18346.0                   2.0                   0.0   \n",
      "2                    24059.0                   2.0                   0.0   \n",
      "3                     2549.0                   1.0                   0.0   \n",
      "4                    23409.0                   0.0                   0.0   \n",
      "\n",
      "                  Referee               Assistant 1  \\\n",
      "0  LOMBARDI Domingo (URU)     CRISTOPHE Henry (BEL)   \n",
      "1       MACIAS Jose (ARG)  MATEUCCI Francisco (URU)   \n",
      "2     TEJADA Anibal (URU)   VALLARINO Ricardo (URU)   \n",
      "3   WARNKEN Alberto (CHI)       LANGENUS Jean (BEL)   \n",
      "4     REGO Gilberto (BRA)      SAUCEDO Ulises (BOL)   \n",
      "\n",
      "                  Assistant 2  RoundID  MatchID Home Team Initials  \\\n",
      "0         REGO Gilberto (BRA)    201.0   1096.0                FRA   \n",
      "1       WARNKEN Alberto (CHI)    201.0   1090.0                USA   \n",
      "2         BALWAY Thomas (FRA)    201.0   1093.0                YUG   \n",
      "3    MATEUCCI Francisco (URU)    201.0   1098.0                ROU   \n",
      "4  RADULESCU Constantin (ROU)    201.0   1085.0                ARG   \n",
      "\n",
      "  Away Team Initials  \n",
      "0                MEX  \n",
      "1                BEL  \n",
      "2                BRA  \n",
      "3                PER  \n",
      "4                FRA  \n"
     ]
    }
   ],
   "source": [
    "import pandas as pd\n",
    "\n",
    "# Load the data\n",
    "df = pd.read_csv(\"./WorldCup/WorldCupMatches.csv\")\n",
    "\n",
    "print(df.head())"
   ]
  },
  {
   "cell_type": "code",
   "execution_count": 3,
   "metadata": {},
   "outputs": [
    {
     "name": "stdout",
     "output_type": "stream",
     "text": [
      "Index(['Year', 'Datetime', 'Stage', 'Stadium', 'City', 'Home Team Name',\n",
      "       'Home Team Goals', 'Away Team Goals', 'Away Team Name',\n",
      "       'Win conditions', 'Attendance', 'Half-time Home Goals',\n",
      "       'Half-time Away Goals', 'Referee', 'Assistant 1', 'Assistant 2',\n",
      "       'RoundID', 'MatchID', 'Home Team Initials', 'Away Team Initials'],\n",
      "      dtype='object')\n"
     ]
    }
   ],
   "source": [
    "print(df.columns)"
   ]
  }
 ],
 "metadata": {
  "kernelspec": {
   "display_name": "Python 3",
   "language": "python",
   "name": "python3"
  },
  "language_info": {
   "codemirror_mode": {
    "name": "ipython",
    "version": 3
   },
   "file_extension": ".py",
   "mimetype": "text/x-python",
   "name": "python",
   "nbconvert_exporter": "python",
   "pygments_lexer": "ipython3",
   "version": "3.12.1"
  }
 },
 "nbformat": 4,
 "nbformat_minor": 2
}
